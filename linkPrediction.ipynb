{
 "cells": [
  {
   "cell_type": "markdown",
   "metadata": {},
   "source": [
    "Read Train Data From Train TSV File\n",
    "-"
   ]
  },
  {
   "cell_type": "code",
   "execution_count": 2,
   "metadata": {},
   "outputs": [],
   "source": [
    "import csv"
   ]
  },
  {
   "cell_type": "code",
   "execution_count": 3,
   "metadata": {},
   "outputs": [],
   "source": [
    "#All data\n",
    "allDataArr = []\n",
    "\n",
    "#Source nodes\n",
    "sourceNodeArr = []\n",
    "\n",
    "#Target nodes\n",
    "targetNodeArr = []\n",
    "\n",
    "#TimeStamps for each node\n",
    "timeStampArr = []\n",
    "\n",
    "#Sentiments for each node 1 positive, -1 negative\n",
    "sentimentArr = []"
   ]
  },
  {
   "cell_type": "code",
   "execution_count": 4,
   "metadata": {},
   "outputs": [],
   "source": [
    "#Open data file\n",
    "with open('soc-redditHyperlinks-title-train.tsv') as csvfile:\n",
    "    \n",
    "    #Read tsv file\n",
    "    reader = csv.DictReader(csvfile, delimiter='\\t')\n",
    "\n",
    "    #Iterate through data\n",
    "    for row in reader:\n",
    "        \n",
    "        #Add source to sourceNodeArr\n",
    "        sourceNodeArr.append(row['SOURCE_SUBREDDIT'])\n",
    "                \n",
    "        #Add target to targetNodeArr\n",
    "        targetNodeArr.append(row['TARGET_SUBREDDIT'])\n",
    "                \n",
    "        #Add timestamp to timeStampArr\n",
    "        timeStampArr.append(row['TIMESTAMP'])\n",
    "                \n",
    "        #Add sentiment to sentimentArr\n",
    "        sentimentArr.append(row['LINK_SENTIMENT'])"
   ]
  },
  {
   "cell_type": "code",
   "execution_count": 5,
   "metadata": {},
   "outputs": [],
   "source": [
    "#Merge arrays. It will be used to add nodes to graph later\n",
    "allDataArr = set( sourceNodeArr + targetNodeArr)"
   ]
  },
  {
   "cell_type": "markdown",
   "metadata": {},
   "source": [
    "Create Train Graph\n",
    "-"
   ]
  },
  {
   "cell_type": "code",
   "execution_count": 6,
   "metadata": {},
   "outputs": [],
   "source": [
    "import networkx as nx\n",
    "import matplotlib.pyplot as plt"
   ]
  },
  {
   "cell_type": "code",
   "execution_count": 7,
   "metadata": {},
   "outputs": [],
   "source": [
    "#Create empty graph\n",
    "titleGraph = nx.Graph()"
   ]
  },
  {
   "cell_type": "code",
   "execution_count": 8,
   "metadata": {},
   "outputs": [],
   "source": [
    "#Add unique nodes to graph without the edges\n",
    "for iterator in allDataArr:\n",
    "    titleGraph.add_node(iterator)"
   ]
  },
  {
   "cell_type": "code",
   "execution_count": 9,
   "metadata": {},
   "outputs": [],
   "source": [
    "#Add edges between nodes and assign weight using sentiment value\n",
    "for index in range(len(sentimentArr)):\n",
    "    titleGraph.add_edge(sourceNodeArr[index], targetNodeArr[index], weight=sentimentArr[index])"
   ]
  },
  {
   "cell_type": "code",
   "execution_count": null,
   "metadata": {},
   "outputs": [],
   "source": [
    "#Find giant component of the train graph\n",
    "titleGraph = max(nx.connected_component_subgraphs(titleGraph), key=len)"
   ]
  },
  {
   "cell_type": "markdown",
   "metadata": {},
   "source": [
    "Read Test Data From Test TSV File\n",
    "-"
   ]
  },
  {
   "cell_type": "code",
   "execution_count": null,
   "metadata": {},
   "outputs": [],
   "source": [
    "#All data\n",
    "testAllDataArr = []\n",
    "\n",
    "#Source nodes\n",
    "testSourceNodeArr = []\n",
    "\n",
    "#Target nodes\n",
    "testTargetNodeArr = []\n",
    "\n",
    "#TimeStamps for each node\n",
    "testTimeStampArr = []\n",
    "\n",
    "#Sentiments for each node 1 positive, -1 negative\n",
    "testSentimentArr = []"
   ]
  },
  {
   "cell_type": "code",
   "execution_count": null,
   "metadata": {},
   "outputs": [],
   "source": [
    "#Open data file\n",
    "with open('soc-redditHyperlinks-title-test.tsv') as csvfile:\n",
    "    \n",
    "    #Read tsv file\n",
    "    testReader = csv.DictReader(csvfile, delimiter='\\t')\n",
    "\n",
    "    #Iterate through data\n",
    "    for row in testReader:\n",
    "        \n",
    "        #Add source to sourceNodeArr\n",
    "        testSourceNodeArr.append(row['SOURCE_SUBREDDIT'])\n",
    "                \n",
    "        #Add target to targetNodeArr\n",
    "        testTargetNodeArr.append(row['TARGET_SUBREDDIT'])\n",
    "                \n",
    "        #Add timestamp to timeStampArr\n",
    "        testTimeStampArr.append(row['TIMESTAMP'])\n",
    "                \n",
    "        #Add sentiment to sentimentArr\n",
    "        testSentimentArr.append(row['LINK_SENTIMENT'])"
   ]
  },
  {
   "cell_type": "code",
   "execution_count": null,
   "metadata": {},
   "outputs": [],
   "source": [
    "#Merge arrays. It will be used to add nodes to graph later\n",
    "testAllDataArr = set( testSourceNodeArr + testTargetNodeArr)"
   ]
  },
  {
   "cell_type": "markdown",
   "metadata": {},
   "source": [
    "Create Test Graph\n",
    "-"
   ]
  },
  {
   "cell_type": "code",
   "execution_count": null,
   "metadata": {},
   "outputs": [],
   "source": [
    "#Create empty graph\n",
    "testTitleGraph = nx.Graph()"
   ]
  },
  {
   "cell_type": "code",
   "execution_count": null,
   "metadata": {},
   "outputs": [],
   "source": [
    "#Add unique nodes to graph without the edges\n",
    "for iterator in testAllDataArr:\n",
    "    testTitleGraph.add_node(iterator)"
   ]
  },
  {
   "cell_type": "code",
   "execution_count": null,
   "metadata": {},
   "outputs": [],
   "source": [
    "#Add edges between nodes and assign weight using sentiment value\n",
    "for index in range(len(testSentimentArr)):\n",
    "    testTitleGraph.add_edge(testSourceNodeArr[index], testTargetNodeArr[index], weight=testSentimentArr[index])"
   ]
  },
  {
   "cell_type": "code",
   "execution_count": null,
   "metadata": {},
   "outputs": [],
   "source": [
    "#Find giant component of the test graph\n",
    "testTitleGraph = max(nx.connected_component_subgraphs(testTitleGraph), key=len)"
   ]
  },
  {
   "cell_type": "markdown",
   "metadata": {},
   "source": [
    "Helper Functions\n",
    "-"
   ]
  },
  {
   "cell_type": "code",
   "execution_count": 12,
   "metadata": {},
   "outputs": [],
   "source": [
    "#Function to find egonet of centerNode\n",
    "def getEgonet(G, centerNode):\n",
    "\n",
    "    #Clear the array for new process\n",
    "    egonet.clear()\n",
    "    \n",
    "    #Iterate through neighbors\n",
    "    for neighbor in G.neighbors(centerNode):\n",
    "        \n",
    "        #Append neighbor to egonet\n",
    "        egonet.append(neighbor)"
   ]
  },
  {
   "cell_type": "code",
   "execution_count": 13,
   "metadata": {},
   "outputs": [],
   "source": [
    "#Function to find possibleEdges inside the egonet(neighbors of centerNode)\n",
    "def getPossibleEdges(G, egonet):\n",
    "\n",
    "    #Clear the array for new process\n",
    "    possibleEdgesInEgonet.clear()\n",
    "\n",
    "    #Iterate through centerNode's egonet\n",
    "    for nodeUp in egonet:\n",
    "\n",
    "        #Iterate through centerNode's egonet again \n",
    "        for node in egonet:\n",
    "\n",
    "            #Check whether we are at the same index of arrays\n",
    "            if node != nodeUp:\n",
    "\n",
    "                #Check whether edge between neighbors of centerNode is exist or not\n",
    "                if node in G.neighbors(nodeUp):\n",
    "\n",
    "                    #node exist in nodeUp's egonet\n",
    "                    continue\n",
    "                \n",
    "                else:\n",
    "\n",
    "                    #node does not exist in nodeUp's egonet\n",
    "                    # TODO: Add the new possible edge to possibleEdgesInEgonet array. Create a data object or Dict?\n",
    "                    continue"
   ]
  },
  {
   "cell_type": "code",
   "execution_count": 14,
   "metadata": {},
   "outputs": [],
   "source": [
    "#Function to merge possibleEdgesInEgonet to possibbleEdges in Graph\n",
    "def mergeNewPossibleEdges(allPossibleEdgesInNetwork, possibleEdgesInEgonet):\n",
    "\n",
    "    #Iterate through the possibleEdgesInEgonet\n",
    "    for edge in possibleEdgesInEgonet:\n",
    "        \n",
    "        #Add new edge to possibleEdges array\n",
    "        allPossibleEdgesInNetwork.append(edge)"
   ]
  },
  {
   "cell_type": "code",
   "execution_count": 16,
   "metadata": {},
   "outputs": [],
   "source": [
    "#Function to apply bonuses\n",
    "def applyBonusesToEdge(G, edge):\n",
    "    \n",
    "    #Called in the prediction phase seperatly, where possibleEdgesInEgonet defined.)\n",
    "    #bonus1(G, edge) \n",
    "    bonus2(G, edge)\n",
    "    bonus3(G, edge)\n",
    "    bonus4(G, edge)"
   ]
  },
  {
   "cell_type": "code",
   "execution_count": null,
   "metadata": {},
   "outputs": [],
   "source": [
    "#Function to compute accuracy\n",
    "def computeAccuracy(posPredictions, topK, actualPos):\n",
    "    tp = 0\n",
    "    fp = 0\n",
    "    fn = 0\n",
    "\n",
    "    # first check positive (true or false) predictions\n",
    "    for i in range(topK):\n",
    "        # if the method has predicted a link to be positive and the test set actually includes that link\n",
    "        if posPredictions[i] in actualPos:\n",
    "            tp += 1\n",
    "        # if the method has predicted a link to be positive, however, the test set does NOT actually include that link\n",
    "        else:\n",
    "            fp += 1\n",
    "\n",
    "    # next check false negative predictions\n",
    "    fn = (len(actualPos) / 2) - tp\n",
    "\n",
    "    accuracy = []\n",
    "\n",
    "    # Calculate precision\n",
    "    precision = tp / (tp + fp)\n",
    "    accuracy.append(precision)\n",
    "\n",
    "    # Calculate recall\n",
    "    recall = tp / (tp + fn)\n",
    "    accuracy.append(recall)\n",
    "\n",
    "    # Calculate F1 Score\n",
    "    f1score = 2 * (precision * recall) / (precision + recall) if (precision + recall) != 0 else 0\n",
    "    accuracy.append(f1score)\n",
    "\n",
    "    accuracy.append(tp)\n",
    "    accuracy.append(fp)\n",
    "    accuracy.append(fn)\n",
    "\n",
    "    return accuracy"
   ]
  },
  {
   "cell_type": "markdown",
   "metadata": {},
   "source": [
    "Bonus Functions\n",
    "-"
   ]
  },
  {
   "cell_type": "code",
   "execution_count": null,
   "metadata": {},
   "outputs": [],
   "source": [
    "'''\n",
    "Bonus 1\n",
    "---------------------------\n",
    "ASSUMPTION: We assume that; if an egonet has internal edges between the neighbors of center node, \n",
    "Then it means that the centerNode suggest and motivates his/her friends to make comments on each other. \n",
    "Therefore, the probability of generating new edges inside the egonet increases.\n",
    "\n",
    "CONDITION: The current number of edges between the neighbors at time t, should be more than the %50 of the all possible edges inside the egonet\n",
    "\n",
    "RESULT: Function takes the graph and an edge and increments the edge's probability of occuring in t+1 if condition satisfies.\n",
    "'''\n",
    "def bonus1(G, node):\n",
    "    \n",
    "    #Check whether condition satisfies //TODO this comparison will be improve as in the condition\n",
    "    if len(possibleEdgesInEgonet) > len(egonet):\n",
    "\n",
    "        #Iterate through possibleEdgesInEgonet\n",
    "        for edge in possibleEdgesInEgonet:\n",
    "\n",
    "            #Assign new prediction value(weight) to edge\n",
    "            edge.weight = edge.weight + 1"
   ]
  },
  {
   "cell_type": "code",
   "execution_count": null,
   "metadata": {},
   "outputs": [],
   "source": [
    "'''\n",
    "Bonus 2\n",
    "---------------------------\n",
    "ASSUMPTION: We assume that; if the average degree of edges source and target nodes are higher than threshold,\n",
    "Then it means that the nodes are tempted to make many comments on different topics.\n",
    "Therefore, the probability of generating new edges inside the egonet increases.\n",
    "\n",
    "CONDITION: The average degree of the source node and the target node of eddge should be higher than certain threshold.\n",
    "\n",
    "RESULT: Function takes the graph and an edge and increments the edge's probability of occuring in t+1 if condition satisfies.\n",
    "'''\n",
    "def bonus2(G, edge):\n",
    "\n",
    "    #Calculate average degree for edge's source and target nodes\n",
    "    average = G.degree(edge[0]) + G.degree(edge[1])\n",
    "\n",
    "    #Check whether condition satisfies //TODO define a threshold\n",
    "    if average > 10:\n",
    "        \n",
    "        #Assign new prediction value(weight) to this edge\n",
    "        edge.weight = edge.weight + 1"
   ]
  },
  {
   "cell_type": "code",
   "execution_count": null,
   "metadata": {},
   "outputs": [],
   "source": [
    "'''\n",
    "Bonus 3\n",
    "---------------------------\n",
    "ASSUMPTION: We assume that; if an edge created before and continues to exist at time t \n",
    "Then it means that the edge has an age value and has effect on generation of other edges. \n",
    "Therefore, older edges has more effect in the egonet in terms of probabilty of creating new edges.\n",
    "\n",
    "CONDITION: Aged edge(s) should be exist inside the egonet\n",
    "\n",
    "RESULT: Function takes the graph and an edge, increments all the edge's(inside egonet) probability of occuring in t+1, if condition satisfies.\n",
    "'''\n",
    "def bonus3(G, edge):\n",
    "    \n",
    "    #Check whether condition satisfies //TODO add age parameter to edges\n",
    "    if edge.age > 0:\n",
    "        \n",
    "        #Assign new prediction value(weight) to this edge\n",
    "        edge.weight = edge.weight + 1"
   ]
  },
  {
   "cell_type": "code",
   "execution_count": null,
   "metadata": {},
   "outputs": [],
   "source": [
    "'''\n",
    "Bonus 4\n",
    "---------------------------\n",
    "ASSUMPTION: We assume that; if an edge(comment) has positive value(1), \n",
    "Then it means that the write(souce node) tempted to make good comments. \n",
    "Therefore, the probability of generating new edges inside the egonet increases.\n",
    "\n",
    "CONDITION: The edge should have positive sentiment value which is 1. \n",
    "\n",
    "RESULT: Function takes the graph and an edge, increments all the edge's(source node's egonet) probability of occuring in t+1, if condition satisfies.\n",
    "'''\n",
    "def bonus4(G, edge):\n",
    "\n",
    "    #Check whether condition satisfies //TODO add sentiment parameter to edges\n",
    "    if edge.sentiment == 1:\n",
    "\n",
    "        #Assign new prediction value(weight) to this edge\n",
    "        edge.weight = edge.weight + 1"
   ]
  },
  {
   "cell_type": "markdown",
   "metadata": {},
   "source": [
    "Prediction for t+1\n",
    "-"
   ]
  },
  {
   "cell_type": "code",
   "execution_count": null,
   "metadata": {},
   "outputs": [],
   "source": [
    "#Empty egonet\n",
    "egonet = []\n",
    "\n",
    "#Possible missing edges in egonet\n",
    "possibleEdgesInEgonet = []\n",
    "\n",
    "#Array of all the possible missing edges in Graph at time st\n",
    "allPossibleEdgesInNetwork = []\n",
    "\n",
    "#Array of predicted links in time t+1\n",
    "predictedLinks = []"
   ]
  },
  {
   "cell_type": "code",
   "execution_count": null,
   "metadata": {},
   "outputs": [],
   "source": [
    "#Iterate through all nodes in graph\n",
    "for node in titleGraph.nodes:\n",
    "    \n",
    "    #Find egonet\n",
    "    getEgonet(titleGraph, node)\n",
    "    \n",
    "    #Get all possible missing links in egonet\n",
    "    getPossibleEdges(titleGraph, node)\n",
    "\n",
    "    #Applying bonus 1 here is easier\n",
    "    bonus1(titleGraph, node)\n",
    "\n",
    "    #Merge new links to allPossibleEdgesInNetwork array\n",
    "    mergeNewPossibleEdges(titleGraph, node)"
   ]
  },
  {
   "cell_type": "code",
   "execution_count": null,
   "metadata": {},
   "outputs": [],
   "source": [
    "#Iterate through all missing links n-in network\n",
    "for link in allPossibleEdgesInNetwork:\n",
    "\n",
    "    #Apply bonuses to missing link in graph\n",
    "    applyBonusesToEdge(link)"
   ]
  },
  {
   "cell_type": "code",
   "execution_count": null,
   "metadata": {},
   "outputs": [],
   "source": [
    "#Sort possible links according to their prediction value(weight)\n",
    "allPossibleEdgesInNetwork.sort(key='weight')"
   ]
  },
  {
   "cell_type": "code",
   "execution_count": null,
   "metadata": {},
   "outputs": [],
   "source": [
    "#Threshold to take top 20 links //TODO threshold\n",
    "for i in range(20):\n",
    "\n",
    "    #Add link to predictedLinks array\n",
    "    predictedLinks.append(allPossibleEdgesInNetwork[i])"
   ]
  },
  {
   "cell_type": "markdown",
   "metadata": {},
   "source": [
    "Comparison t->t+1\n",
    "-"
   ]
  },
  {
   "cell_type": "code",
   "execution_count": null,
   "metadata": {},
   "outputs": [],
   "source": [
    "#//TODO in progress\n",
    "\n",
    "# The set of nodes\n",
    "setOfNodes = list(titleGraph.nodes())\n",
    "\n",
    "# Dictionary that reflects the links in the test set\n",
    "existingLinksInTestSet = list(testTitleGraph.edges)\n",
    "\n",
    "actualPositives = []\n",
    "for i in range(len(existingLinksInTestSet)):\n",
    "    data = str(existingLinksInTestSet[i][0]) + str(existingLinksInTestSet[i][1])\n",
    "    actualPositives.append(data)\n",
    "    data = str(existingLinksInTestSet[i][1]) + str(existingLinksInTestSet[i][0])"
   ]
  }
 ],
 "metadata": {
  "interpreter": {
   "hash": "ac59ebe37160ed0dfa835113d9b8498d9f09ceb179beaac4002f036b9467c963"
  },
  "kernelspec": {
   "display_name": "Python 3.9.6 64-bit",
   "language": "python",
   "name": "python3"
  },
  "language_info": {
   "codemirror_mode": {
    "name": "ipython",
    "version": 3
   },
   "file_extension": ".py",
   "mimetype": "text/x-python",
   "name": "python",
   "nbconvert_exporter": "python",
   "pygments_lexer": "ipython3",
   "version": "3.9.6"
  },
  "orig_nbformat": 4
 },
 "nbformat": 4,
 "nbformat_minor": 2
}
